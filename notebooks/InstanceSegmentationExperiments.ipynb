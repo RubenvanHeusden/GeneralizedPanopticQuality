{
 "cells": [
  {
   "cell_type": "markdown",
   "id": "dd8fe175",
   "metadata": {},
   "source": [
    "# Results of comparison between PQ+ and PQ& for Instance Segmentation"
   ]
  },
  {
   "cell_type": "markdown",
   "id": "57fa23e6",
   "metadata": {},
   "source": [
    "In this notebook we will compare the two matchings on three real-world datasets and see what the main differences between the two matchings are."
   ]
  },
  {
   "cell_type": "markdown",
   "id": "9cc6afe0",
   "metadata": {},
   "source": [
    "## The implementation\n",
    "\n",
    "Below is the implementation of PQ& and PQ+ for a set of binary masks and a set of predicted masks. This is mostly for demonstration purposes, depending on the dataset an algorithm based on LRE masks might be more efficient when running the prediction on all test images."
   ]
  },
  {
   "cell_type": "code",
   "execution_count": 1,
   "id": "626ba54c",
   "metadata": {},
   "outputs": [],
   "source": [
    "import json\n",
    "import torch\n",
    "import scipy\n",
    "import itertools\n",
    "import torchvision\n",
    "import numpy as np\n",
    "import pandas as pd\n",
    "from PIL import Image\n",
    "import seaborn as sns\n",
    "from tqdm import tqdm\n",
    "import pycocotools.coco\n",
    "from itertools import cycle\n",
    "import matplotlib.pyplot as plt\n",
    "from scipy.stats import pearsonr\n",
    "from pycocotools.coco import COCO\n",
    "from collections import defaultdict\n",
    "from torchvision.io import read_image\n",
    "from scipy.stats import kstest, ks_2samp\n",
    "from torchvision.ops import masks_to_boxes\n",
    "from pycocotools.mask import decode, encode\n",
    "from statsmodels.stats.weightstats import ztest\n",
    "from torchvision.utils import draw_segmentation_masks"
   ]
  },
  {
   "cell_type": "code",
   "execution_count": 2,
   "id": "6a933d02",
   "metadata": {},
   "outputs": [],
   "source": [
    "# Convenience function for loading in JSON files\n",
    "def read_json(filename):\n",
    "    with open(filename, 'r') as f:\n",
    "        return json.load(f)"
   ]
  },
  {
   "cell_type": "markdown",
   "id": "423826e6",
   "metadata": {},
   "source": [
    "The function below implements the PQ+ and PQ& scores for a set of binary masks `ground_truth_masks` and a set of binary masks `prediction_masks`. "
   ]
  },
  {
   "cell_type": "code",
   "execution_count": 3,
   "id": "1327507d",
   "metadata": {},
   "outputs": [],
   "source": [
    "def compute_matching(ground_truth_masks: np.ndarray, prediction_masks: np.ndarray, kind: str='original') -> dict:\n",
    "    \"\"\"\n",
    "    Implements the theta& and theta+ matching conditions for an array of ground truth masks\n",
    "    of shape (N, Y, X) where N is the number of objects and a predicted array of shape (M, Y, X)\n",
    "    where M is the number of predicted objects\n",
    "    \"\"\"\n",
    "    TP = []\n",
    "    IOU = []\n",
    "    gt_indices = list(range(ground_truth_masks.shape[0]))\n",
    "    pred_indices = list(range(prediction_masks.shape[0]))\n",
    "    # original denotes theta& and modified denotes theta+\n",
    "    assert kind in ['original', 'modified']\n",
    "    \n",
    "    # Loop through all the possible combinations of predicted and ground\n",
    "    # truth masks\n",
    "    for i in range(ground_truth_masks.shape[0]):\n",
    "        for j in range(prediction_masks.shape[0]):\n",
    "            ground_truth_mask = ground_truth_masks[i, :, :]\n",
    "            predicted_mask = prediction_masks[j, :, :]\n",
    "            # get the union of the masks\n",
    "            union = ((ground_truth_mask + predicted_mask) > 0).sum()\n",
    "            # get the intersection of the masks\n",
    "            intersection = (predicted_mask * ground_truth_mask).sum()\n",
    "            # calculate the iou\n",
    "            iou = intersection / union\n",
    "            \n",
    "            # original matching condition\n",
    "            if kind == 'original':\n",
    "                if iou > 0.5:\n",
    "                    TP.append((i, j))\n",
    "                    IOU.append(iou)\n",
    "            # altered matching condition        \n",
    "            if kind == 'modified':\n",
    "                # part of masks only in ground truth\n",
    "                gt_only = (ground_truth_mask.sum() - intersection)\n",
    "                # part of masks only in the prediction\n",
    "                pred_only = (predicted_mask.sum() - intersection)\n",
    "                \n",
    "                if (intersection > gt_only) and (intersection > pred_only):\n",
    "                    TP.append((i, j))\n",
    "                    IOU.append(iou)\n",
    "    # Return TP, FP, FN and IOU\n",
    "    FP = set(pred_indices)-set([item[1] for item in TP])\n",
    "    FN = set(gt_indices)-set([item[0] for item in TP])\n",
    "    return {'TP': TP, 'FP': FP, 'FN': FN, 'IOU': IOU}\n",
    "                    \n",
    "            "
   ]
  },
  {
   "cell_type": "code",
   "execution_count": 4,
   "id": "2fb6311c",
   "metadata": {},
   "outputs": [],
   "source": [
    "def LRE_list_to_binary_mask_dict(LRE_list):\n",
    "    binary_mask_dict = defaultdict(list)\n",
    "    for mask in tqdm(LRE_list):\n",
    "        binary_mask = decode(mask['segmentation'])\n",
    "        binary_mask_dict[mask['image_id']].append(binary_mask)\n",
    "        \n",
    "    for image_id, binary_list in tqdm(binary_mask_dict.items()):\n",
    "        stacked_vecs = np.stack(binary_mask_dict[image_id])\n",
    "        if len(stacked_vecs.shape) == 4:\n",
    "            stacked_vecs = np.stack(binary_mask_dict[image_id]).squeeze(0)\n",
    "        binary_mask_dict[image_id] = stacked_vecs\n",
    "        \n",
    "    return binary_mask_dict"
   ]
  },
  {
   "cell_type": "markdown",
   "id": "d1d724ca",
   "metadata": {},
   "source": [
    "## Dataloading\n",
    "\n",
    "First we load the results from the three datasets stored in the json format. These are stored in the efficient LRE format with an entry per mask, but these have to be converted back to n-size masks for ground truth and predictions, so we do this right after the loading. We also have to load in the cityscapes dataset seperately, as this uses a slightly different format than the other two datasets."
   ]
  },
  {
   "cell_type": "code",
   "execution_count": 5,
   "id": "7bbb270b",
   "metadata": {},
   "outputs": [
    {
     "name": "stdout",
     "output_type": "stream",
     "text": [
      "loading annotations into memory...\n",
      "Done (t=0.60s)\n",
      "creating index...\n",
      "index created!\n",
      "loading annotations into memory...\n",
      "Done (t=1.07s)\n",
      "creating index...\n",
      "index created!\n",
      "loading annotations into memory...\n",
      "Done (t=0.72s)\n",
      "creating index...\n",
      "index created!\n"
     ]
    }
   ],
   "source": [
    "coco_dataset = COCO('../data/coco.json')\n",
    "lvis_dataset = COCO('../data/lvis.json')\n",
    "cityscapes_dataset = COCO('../data/cityscapes_coco.json')"
   ]
  },
  {
   "cell_type": "markdown",
   "id": "0ab4869c",
   "metadata": {},
   "source": [
    "## Basic Analysis\n",
    "\n",
    "Before we get into actually computing the differences between the two matching conditions, we will start by gathering some basic statistics on each of the datasets. Let's start by comparing the distribution of the sizes of the datasets in terms of the number of images and objects, as well as the distribution of object sizes amongst the three datasets."
   ]
  },
  {
   "cell_type": "code",
   "execution_count": 6,
   "id": "edb887b7",
   "metadata": {},
   "outputs": [
    {
     "name": "stdout",
     "output_type": "stream",
     "text": [
      "The COCO dataset contains 5000 images and 36781 annotations\n",
      "The LVIS dataset contains 5000 images and 50763 annotations\n",
      "The CitysScapes dataset contains 500 images and 9792 annotations\n"
     ]
    }
   ],
   "source": [
    "print(\"The COCO dataset contains %d images and %d annotations\" % (len(coco_dataset.getImgIds()), len(coco_dataset.getAnnIds())))\n",
    "print(\"The LVIS dataset contains %d images and %d annotations\" % (len(lvis_dataset.getImgIds()), len(lvis_dataset.getAnnIds())))\n",
    "print(\"The CitysScapes dataset contains %d images and %d annotations\" % (len(cityscapes_dataset.getImgIds()), len(cityscapes_dataset.getAnnIds())))"
   ]
  },
  {
   "cell_type": "code",
   "execution_count": 7,
   "id": "c5b8b931",
   "metadata": {},
   "outputs": [],
   "source": [
    "def get_annotation_sizes(dataset):\n",
    "    areas = []\n",
    "    for image_id in tqdm(dataset.getImgIds()):\n",
    "        image_annotations = dataset.loadAnns(dataset.getAnnIds(image_id))\n",
    "        areas.extend([annot['area'] for annot in image_annotations])\n",
    "    return pd.Series(areas)"
   ]
  },
  {
   "cell_type": "code",
   "execution_count": 8,
   "id": "1794e762",
   "metadata": {},
   "outputs": [
    {
     "name": "stderr",
     "output_type": "stream",
     "text": [
      "100%|████████████████████████████████████| 5000/5000 [00:00<00:00, 38787.30it/s]\n",
      "100%|████████████████████████████████████| 5000/5000 [00:00<00:00, 55651.44it/s]\n",
      "100%|██████████████████████████████████████| 500/500 [00:00<00:00, 20044.27it/s]\n"
     ]
    }
   ],
   "source": [
    "lvis_areas = get_annotation_sizes(lvis_dataset)\n",
    "coco_areas = get_annotation_sizes(coco_dataset)\n",
    "cityscapes_areas = get_annotation_sizes(cityscapes_dataset)"
   ]
  },
  {
   "cell_type": "code",
   "execution_count": 9,
   "id": "81e8fb50",
   "metadata": {},
   "outputs": [
    {
     "name": "stdout",
     "output_type": "stream",
     "text": [
      "The average object size in COCO is 11979 pixels\n",
      "The average object size in LVIS is 5601 pixels\n",
      "The average object size in Cityscapes is 8690 pixels\n"
     ]
    }
   ],
   "source": [
    "print(\"The average object size in COCO is %d pixels\" % coco_areas.mean())\n",
    "print(\"The average object size in LVIS is %d pixels\" % lvis_areas.mean())\n",
    "print(\"The average object size in Cityscapes is %d pixels\" % cityscapes_areas.mean())"
   ]
  },
  {
   "cell_type": "code",
   "execution_count": 10,
   "id": "01331b7b",
   "metadata": {},
   "outputs": [
    {
     "data": {
      "image/png": "[encoded data removed]",
      "text/plain": [
       "<Figure size 640x480 with 1 Axes>"
      ]
     },
     "metadata": {},
     "output_type": "display_data"
    }
   ],
   "source": [
    "coco_areas.plot(kind='kde', logx=True)\n",
    "lvis_areas.plot(kind='kde', logx=True)\n",
    "cityscapes_areas.plot(kind='kde', logx=True)\n",
    "plt.show()"
   ]
  },
  {
   "cell_type": "code",
   "execution_count": 11,
   "id": "60450e72",
   "metadata": {},
   "outputs": [],
   "source": [
    "def coco_format_to_binary_dict(dataset):\n",
    "    output = {}\n",
    "    classes = []\n",
    "    for image in tqdm(dataset.getImgIds()):\n",
    "        annotation_indices = dataset.getAnnIds(imgIds=image)\n",
    "        annotations = dataset.loadAnns(annotation_indices)\n",
    "\n",
    "        if len(annotations):\n",
    "            ids = [annotation['category_id'] for annotation in annotations]\n",
    "            classes.extend(ids)\n",
    "            masks = [dataset.annToMask(annotation) for annotation in annotations]\n",
    "            output[image] = np.stack([masks])\n",
    "    return output, classes\n",
    "        "
   ]
  },
  {
   "cell_type": "markdown",
   "id": "2a4a1d65",
   "metadata": {},
   "source": [
    "Based on the sizes we skip the 25\\% of the smallest clusters and calculate the TPs and all scores based only on the remaining data."
   ]
  },
  {
   "cell_type": "code",
   "execution_count": 12,
   "id": "b7d59d4b",
   "metadata": {},
   "outputs": [
    {
     "name": "stderr",
     "output_type": "stream",
     "text": [
      "100%|███████████████████████████████████| 28117/28117 [00:09<00:00, 3087.37it/s]\n",
      "100%|██████████████████████████████████████| 4343/4343 [00:09<00:00, 436.28it/s]\n",
      "100%|███████████████████████████████████| 29224/29224 [00:10<00:00, 2843.29it/s]\n",
      "100%|██████████████████████████████████████| 4193/4193 [00:11<00:00, 373.81it/s]\n",
      "100%|██████████████████████████████████████| 8789/8789 [00:23<00:00, 376.10it/s]\n",
      "100%|█████████████████████████████████████████| 494/494 [00:26<00:00, 18.83it/s]\n"
     ]
    }
   ],
   "source": [
    "with open('../results/coco.json', 'r') as json_file:\n",
    "    coco_results = LRE_list_to_binary_mask_dict(json.load(json_file))\n",
    "with open('../results/lvis.json', 'r') as json_file:\n",
    "    lvis_results = LRE_list_to_binary_mask_dict(json.load(json_file))\n",
    "with open('../results/cityscapes_new.json', 'r') as json_file:\n",
    "    cityscapes_results =LRE_list_to_binary_mask_dict(json.load(json_file))"
   ]
  },
  {
   "cell_type": "code",
   "execution_count": 13,
   "id": "f1f6bce3",
   "metadata": {},
   "outputs": [
    {
     "name": "stderr",
     "output_type": "stream",
     "text": [
      "100%|██████████████████████████████████████| 5000/5000 [00:29<00:00, 168.82it/s]\n",
      "100%|██████████████████████████████████████| 5000/5000 [00:43<00:00, 114.37it/s]\n",
      "100%|█████████████████████████████████████████| 500/500 [01:26<00:00,  5.76it/s]\n"
     ]
    }
   ],
   "source": [
    "coco_gold_standard, coco_classes = coco_format_to_binary_dict(coco_dataset)\n",
    "lvis_gold_standard, lvis_classes = coco_format_to_binary_dict(lvis_dataset)\n",
    "cityscapes_gold_standard, cityscapes_classes = coco_format_to_binary_dict(cityscapes_dataset)"
   ]
  },
  {
   "cell_type": "markdown",
   "id": "c1eb5b6a",
   "metadata": {},
   "source": [
    "Next up we load the precomputed results of the metrics for all three datasets."
   ]
  },
  {
   "cell_type": "code",
   "execution_count": 36,
   "id": "716c9251",
   "metadata": {},
   "outputs": [],
   "source": [
    "cityscapes_scores = read_json('../pq_results/cityscapes_new.json')\n",
    "coco_scores = read_json('../pq_results/coco.json')\n",
    "lvis_scores = read_json('../pq_results/lvis.json')"
   ]
  },
  {
   "cell_type": "code",
   "execution_count": 37,
   "id": "6b046df0",
   "metadata": {},
   "outputs": [],
   "source": [
    "# Now get the differing TP pairs\n",
    "def get_matching_differences(scores, dataset):\n",
    "    all_differences = []\n",
    "    for image, value in scores.items():\n",
    "        different_tp_pairs = [item[0] for item in value['PQ_and']['TP'] if item not in value['PQ']['TP']]\n",
    "        all_differences.extend(different_tp_pairs)\n",
    "    return all_differences\n",
    "    "
   ]
  },
  {
   "cell_type": "code",
   "execution_count": 38,
   "id": "b3af2321",
   "metadata": {},
   "outputs": [],
   "source": [
    "coco_tps = get_matching_differences(coco_scores, coco_dataset)\n",
    "lvis_tps = get_matching_differences(lvis_scores, lvis_dataset)\n",
    "cityscapes_tps = get_matching_differences(cityscapes_scores, cityscapes_dataset)"
   ]
  },
  {
   "cell_type": "code",
   "execution_count": 39,
   "id": "89ad14c5",
   "metadata": {},
   "outputs": [
    {
     "name": "stdout",
     "output_type": "stream",
     "text": [
      "There are 526 new TPs for the PQ+ metric in the COCO dataset\n",
      "There are 492 new TPs for the PQ+ metric in the LVIS dataset\n",
      "There are 232 new TPs for the PQ+ metric in the CityScapes dataset\n"
     ]
    }
   ],
   "source": [
    "print(\"There are %d new TPs for the PQ+ metric in the COCO dataset\" % len(coco_tps))\n",
    "print(\"There are %d new TPs for the PQ+ metric in the LVIS dataset\" % len(lvis_tps))\n",
    "print(\"There are %d new TPs for the PQ+ metric in the CityScapes dataset\" % len(cityscapes_tps))"
   ]
  },
  {
   "cell_type": "code",
   "execution_count": 40,
   "id": "816923fa",
   "metadata": {},
   "outputs": [],
   "source": [
    "# Doe the recall thing with three 3 datasets \n",
    "cityscapes_PQ_IOU = pd.DataFrame([item for result in cityscapes_scores.values() for item in result['PQ']['IOU']])\n",
    "cityscapes_PQ_and_IOU = pd.DataFrame([item for result in cityscapes_scores.values() for item in result['PQ_and']['IOU']])\n",
    "cityscapes_iou = pd.concat([cityscapes_PQ_IOU, cityscapes_PQ_and_IOU])\n",
    "cityscapes_iou['type'] = ['$\\\\theta^{+}$']*cityscapes_PQ_IOU.shape[0] + ['$\\\\theta^{&}$']*cityscapes_PQ_and_IOU.shape[0]\n",
    "\n",
    "coco_PQ_IOU = pd.DataFrame([item for result in coco_scores.values() for item in result['PQ']['IOU']])\n",
    "coco_PQ_and_IOU = pd.DataFrame([item for result in coco_scores.values() for item in result['PQ_and']['IOU']])\n",
    "coco_iou = pd.concat([coco_PQ_IOU, coco_PQ_and_IOU])\n",
    "coco_iou['type'] = ['$\\\\theta^{+}$']*coco_PQ_IOU.shape[0] + ['$\\\\theta^{&}$']*coco_PQ_and_IOU.shape[0]\n",
    "\n",
    "lvis_PQ_IOU = pd.DataFrame([item for result in lvis_scores.values() for item in result['PQ']['IOU']])\n",
    "lvis_PQ_and_IOU = pd.DataFrame([item for result in lvis_scores.values() for item in result['PQ_and']['IOU']])\n",
    "lvis_iou = pd.concat([lvis_PQ_IOU, lvis_PQ_and_IOU])\n",
    "lvis_iou['type'] = ['$\\\\theta^{+}$']*lvis_PQ_IOU.shape[0] + ['$\\\\theta^{&}$']*lvis_PQ_and_IOU.shape[0]"
   ]
  },
  {
   "cell_type": "code",
   "execution_count": 41,
   "id": "cf27c5d9",
   "metadata": {},
   "outputs": [],
   "source": [
    "total_dataframe = pd.concat([cityscapes_iou, coco_iou, lvis_iou])\n",
    "total_dataframe['Dataset'] = ['CityScapes']*cityscapes_iou.shape[0]+['MS COCO']*coco_iou.shape[0]+['LVIS']*lvis_iou.shape[0]"
   ]
  },
  {
   "cell_type": "code",
   "execution_count": 42,
   "id": "89921fc4",
   "metadata": {},
   "outputs": [],
   "source": [
    "total_dataframe.rename({0: 'IOU'}, inplace=True, axis=1)"
   ]
  },
  {
   "cell_type": "code",
   "execution_count": 43,
   "id": "af50ce7f",
   "metadata": {},
   "outputs": [
    {
     "name": "stderr",
     "output_type": "stream",
     "text": [
      "The PostScript backend does not support transparency; partially transparent artists will be rendered opaque.\n"
     ]
    },
    {
     "data": {
      "image/png": "[encoded data removed]",
      "text/plain": [
       "<Figure size 640x480 with 1 Axes>"
      ]
     },
     "metadata": {},
     "output_type": "display_data"
    }
   ],
   "source": [
    "\n",
    "sns.set_theme(style=\"ticks\", palette=\"pastel\")\n",
    "# Define some hatches\n",
    "hatches = cycle(['/', '\\\\'])\n",
    "\n",
    "# Load the example tips dataset\n",
    "tips = sns.load_dataset(\"tips\")\n",
    "\n",
    "# Draw a nested boxplot to show bills by day and time\n",
    "ax = sns.boxplot(x=\"Dataset\", y=\"IOU\",\n",
    "            hue=\"type\", palette=[\"m\", \"g\"],\n",
    "            data=total_dataframe, showfliers=False, linewidth=2)\n",
    "sns.despine(offset=10, trim=True)\n",
    "\n",
    "\n",
    "# Barplot\n",
    "num_locations = 3\n",
    "for i, patch in enumerate(ax.patches):\n",
    "    # Blue bars first, then green bars\n",
    "    if i % num_locations == 0:\n",
    "        hatch = next(hatches)\n",
    "    patch.set_hatch(hatch)\n",
    "\n",
    "leg = plt.legend(loc='lower left')\n",
    "next(hatches)\n",
    "for patch in leg.get_patches():\n",
    "    patch.set_height(15)\n",
    "    patch.set_y(-6)\n",
    "    patch.set_hatch(next(hatches))\n",
    "plt.tight_layout()\n",
    "plt.savefig('../paper_images/iou_boxplot.eps', bbox_inches='tight', format='eps')"
   ]
  },
  {
   "cell_type": "markdown",
   "id": "1577a83f",
   "metadata": {},
   "source": [
    "Next we test whether or not the differences between the two matchings is significant or not"
   ]
  },
  {
   "cell_type": "code",
   "execution_count": 44,
   "id": "4e7f85e3",
   "metadata": {},
   "outputs": [
    {
     "name": "stdout",
     "output_type": "stream",
     "text": [
      "CityScapes Dataset\n",
      "(6944,) (7166,)\n",
      "KstestResult(statistic=0.03237510466089869, pvalue=0.0011937558323485815, statistic_location=0.5, statistic_sign=-1)\n",
      "\n",
      "LVIS Dataset\n",
      "(14053,) (14545,)\n",
      "KstestResult(statistic=0.03382605706428326, pvalue=1.5369602320101921e-07, statistic_location=0.5, statistic_sign=-1)\n",
      "\n",
      "MS COCO Dataset\n",
      "(18957,) (19483,)\n",
      "KstestResult(statistic=0.026997895601293436, pvalue=1.62000502621046e-06, statistic_location=0.5, statistic_sign=-1)\n",
      "\n"
     ]
    }
   ],
   "source": [
    "for _, group in total_dataframe.groupby('Dataset'):\n",
    "    print(group['Dataset'].unique()[0] + ' Dataset')\n",
    "    #print(kstest(group[group['type'] == '$\\\\theta^{+}$']['IOU'], group[group['type'] == '$\\\\theta^{&}$']['IOU']))\n",
    "    print(group[group['type'] == '$\\\\theta^{+}$']['IOU'].shape, group[group['type'] == '$\\\\theta^{&}$']['IOU'].shape)\n",
    "    print(ks_2samp(group[group['type'] == '$\\\\theta^{+}$']['IOU'], group[group['type'] == '$\\\\theta^{&}$']['IOU']))\n",
    "    print()"
   ]
  },
  {
   "cell_type": "code",
   "execution_count": 45,
   "id": "b4b91a46",
   "metadata": {},
   "outputs": [
    {
     "data": {
      "text/plain": [
       "KstestResult(statistic=0.03237510466089869, pvalue=0.0011937558323485815, statistic_location=0.5, statistic_sign=-1)"
      ]
     },
     "execution_count": 45,
     "metadata": {},
     "output_type": "execute_result"
    }
   ],
   "source": [
    "kstest(total_dataframe[(total_dataframe['Dataset'] == 'CityScapes') & (total_dataframe['type'] == '$\\\\theta^{+}$')]['IOU'], total_dataframe[(total_dataframe['Dataset'] == 'CityScapes') & (total_dataframe['type'] == '$\\\\theta^{&}$')]['IOU']\n",
    ", alternative='two-sided')"
   ]
  },
  {
   "cell_type": "markdown",
   "id": "7c7762a5",
   "metadata": {},
   "source": [
    "## Testing the true positives\n",
    "\n",
    "In this section we are going to investigate to what extend the True positives that are newly discovered by PQ+ are valid TPs, both true a visual inspection as well as a mathematical formulation."
   ]
  },
  {
   "cell_type": "code",
   "execution_count": 64,
   "id": "691d4237",
   "metadata": {},
   "outputs": [],
   "source": [
    "def get_PQ_and_false_hits(gold_standard, predictions, dataset_scores, pi_threshold: float=0.50):\n",
    "    too_much_t_prime = 0 \n",
    "    too_little_t = 0 \n",
    "    total = 0\n",
    "    false_hit_sizes = []\n",
    "    false_hits = []\n",
    "    \n",
    "    # First get the pairs that are only in PQand\n",
    "    different_TP_pairs = {}\n",
    "    for key, value in dataset_scores.items():\n",
    "        try:\n",
    "            different_TP_pairs[int(key)] = [item for item in value['PQ_and']['TP'] if item not in value['PQ']['TP']]\n",
    "        except:\n",
    "            different_TP_pairs[key] = [item for item in value['PQ_and']['TP'] if item not in value['PQ']['TP']]\n",
    "            \n",
    "    for image, tp_pairs in tqdm(different_TP_pairs.items()):\n",
    "        if len(tp_pairs):\n",
    "            gt_indices = list(range(gold_standard[image].squeeze(0).shape[0]))\n",
    "            pred_indices = list(range(predictions[image].shape[0]))\n",
    "            for true_idx, pred_idx in tp_pairs:\n",
    "                ground_truth_instance = gold_standard[image].squeeze(0)[true_idx] if true_idx < len(gold_standard[image].squeeze(0)) else gold_standard[image].squeeze(0)[-1]\n",
    "                total+=1\n",
    "                predicted_instance = predictions[image][pred_idx]\n",
    "                intersection = np.logical_and(ground_truth_instance, predicted_instance)\n",
    "                union = ((ground_truth_instance + predicted_instance) > 0)\n",
    "                iou = intersection.sum()/ union.sum()\n",
    "                gt_only = ((ground_truth_instance > 0).sum() - (intersection > 0).sum())\n",
    "                gt_only_mask = (ground_truth_instance - intersection)\n",
    "                pred_only = ((predicted_instance > 0).sum() - (intersection > 0).sum())\n",
    "                pred_only_mask = (predicted_instance.astype(int) - intersection.astype(int))\n",
    "\n",
    "                other_ground_truth_masks = list(set(gt_indices)-set([true_idx]))\n",
    "\n",
    "                if len(other_ground_truth_masks):\n",
    "                    for t_prime_idx in other_ground_truth_masks:\n",
    "                        t_prime_mask = gold_standard[image].squeeze(0)[t_prime_idx]\n",
    "                        t_prime_intersect = np.logical_and(t_prime_mask, predicted_instance)\n",
    "                        condition_1 = (t_prime_intersect.sum() >= pi_threshold*intersection.sum())\n",
    "                        condition_2 = (gt_only.sum() >= pi_threshold*intersection.sum())\n",
    "                        if condition_1 and condition_2:\n",
    "                                false_hit_sizes.append(gt_only)\n",
    "                                false_hits.append((image, true_idx, pred_idx,\n",
    "                                                  t_prime_intersect.sum() / intersection.sum(),\n",
    "                                                  t_prime_intersect.sum() / gt_only))\n",
    "                        if condition_1:\n",
    "                            too_much_t_prime+=1\n",
    "                        if condition_2:\n",
    "                            too_little_t+=1\n",
    "    return false_hits, total, false_hit_sizes\n",
    "                    "
   ]
  },
  {
   "cell_type": "code",
   "execution_count": 70,
   "id": "4a437e1c",
   "metadata": {},
   "outputs": [
    {
     "name": "stderr",
     "output_type": "stream",
     "text": [
      "100%|██████████████████████████████████████| 4343/4343 [00:09<00:00, 472.34it/s]\n",
      "100%|██████████████████████████████████████| 4193/4193 [00:15<00:00, 273.34it/s]\n"
     ]
    }
   ],
   "source": [
    "coco_false_hits = get_PQ_and_false_hits(coco_gold_standard, coco_results, coco_scores, pi_threshold=0.75)\n",
    "lvis_false_hits = get_PQ_and_false_hits(lvis_gold_standard, lvis_results, lvis_scores, pi_threshold=0.75)"
   ]
  },
  {
   "cell_type": "code",
   "execution_count": 71,
   "id": "1c907c6c",
   "metadata": {},
   "outputs": [
    {
     "name": "stdout",
     "output_type": "stream",
     "text": [
      "Of all the coco false hits, a fraction of 0.71 is smaller than 1024 pixels\n",
      "Of all the lvis false hits, a fraction of 0.65 is smaller than 1024 pixels\n"
     ]
    }
   ],
   "source": [
    "print(\"Of all the coco false hits, a fraction of %.2f is smaller than 1024 pixels\" % (pd.Series((pd.Series(coco_false_hits[2]) < 1024).mean())).mean())\n",
    "print(\"Of all the lvis false hits, a fraction of %.2f is smaller than 1024 pixels\" % (pd.Series((pd.Series(lvis_false_hits[2]) < 1024).mean())).mean())"
   ]
  },
  {
   "cell_type": "code",
   "execution_count": 72,
   "id": "84d16939",
   "metadata": {},
   "outputs": [
    {
     "data": {
      "text/plain": [
       "59"
      ]
     },
     "execution_count": 72,
     "metadata": {},
     "output_type": "execute_result"
    }
   ],
   "source": [
    "len(lvis_false_hits[0])+len(coco_false_hits[0])"
   ]
  },
  {
   "cell_type": "code",
   "execution_count": 75,
   "id": "048a4b8e",
   "metadata": {},
   "outputs": [
    {
     "name": "stdout",
     "output_type": "stream",
     "text": [
      "Of all new LVIS TPs, a portion of 0.06 is a false positive\n",
      "Of all new COCO TPs, a portion of 0.05 is a false positive\n"
     ]
    }
   ],
   "source": [
    "print(\"Of all new LVIS TPs, a portion of %.2f is a false positive\" % (len(lvis_false_hits[0]) / lvis_false_hits[1]))\n",
    "print(\"Of all new COCO TPs, a portion of %.2f is a false positive\" % (len(coco_false_hits[0]) / coco_false_hits[1]))"
   ]
  },
  {
   "cell_type": "code",
   "execution_count": 80,
   "id": "8885613a",
   "metadata": {},
   "outputs": [],
   "source": [
    "new_TP_pairs_iou_lvis = []\n",
    "\n",
    "for value in lvis_scores.values():\n",
    "    new_TP_indices = [i for i, PQ_and_value in enumerate(value['PQ_and']['TP']) if PQ_and_value not in value['PQ']['TP']]\n",
    "    new_TP_pairs_iou_lvis.extend(np.array(value['PQ_and']['IOU'])[new_TP_indices])"
   ]
  },
  {
   "cell_type": "code",
   "execution_count": 81,
   "id": "2a404448",
   "metadata": {},
   "outputs": [],
   "source": [
    "new_TP_pairs_iou_coco = []\n",
    "\n",
    "for value in coco_scores.values():\n",
    "    new_TP_indices = [i for i, PQ_and_value in enumerate(value['PQ_and']['TP']) if PQ_and_value not in value['PQ']['TP']]\n",
    "    new_TP_pairs_iou_coco.extend(np.array(value['PQ_and']['IOU'])[new_TP_indices])"
   ]
  },
  {
   "cell_type": "code",
   "execution_count": 82,
   "id": "2d14537b",
   "metadata": {},
   "outputs": [],
   "source": [
    "new_TP_pairs_iou_cityscapes = []\n",
    "\n",
    "for value in cityscapes_scores.values():\n",
    "    new_TP_indices = [i for i, PQ_and_value in enumerate(value['PQ_and']['TP']) if PQ_and_value not in value['PQ']['TP']]\n",
    "    new_TP_pairs_iou_cityscapes.extend(np.array(value['PQ_and']['IOU'])[new_TP_indices])"
   ]
  },
  {
   "cell_type": "code",
   "execution_count": 83,
   "id": "08decace",
   "metadata": {},
   "outputs": [],
   "source": [
    "new_TP_pair_ser = pd.DataFrame(new_TP_pairs_iou_cityscapes)\n",
    "new_TP_pair_ser_coco = pd.DataFrame(new_TP_pairs_iou_coco)\n",
    "new_TP_pair_ser_lvis = pd.DataFrame(new_TP_pairs_iou_lvis)"
   ]
  },
  {
   "cell_type": "code",
   "execution_count": 84,
   "id": "579a1f08",
   "metadata": {},
   "outputs": [],
   "source": [
    "plot_dataframe = np.concatenate([np.array(new_TP_pair_ser).squeeze(), np.array(new_TP_pair_ser_coco).squeeze(),\n",
    "                           np.array(new_TP_pair_ser_lvis).squeeze()])\n",
    "dataset_labels = ['CityScapes']*len(np.array(new_TP_pair_ser).squeeze()) + ['MS COCO']*len(np.array(new_TP_pair_ser_coco).squeeze()) + ['LVIS']*len(new_TP_pair_ser_lvis)"
   ]
  },
  {
   "cell_type": "code",
   "execution_count": 85,
   "id": "7a7cbcc4",
   "metadata": {},
   "outputs": [
    {
     "data": {
      "text/plain": [
       "492"
      ]
     },
     "execution_count": 85,
     "metadata": {},
     "output_type": "execute_result"
    }
   ],
   "source": [
    "len(new_TP_pair_ser_lvis)"
   ]
  },
  {
   "cell_type": "code",
   "execution_count": 86,
   "id": "7994b2df",
   "metadata": {},
   "outputs": [],
   "source": [
    "kde_dataframe = pd.DataFrame({'IOU': plot_dataframe, 'Dataset': dataset_labels})"
   ]
  },
  {
   "cell_type": "code",
   "execution_count": 89,
   "id": "e5ccfcf4",
   "metadata": {},
   "outputs": [
    {
     "data": {
      "image/png": "[encoded data removed]",
      "text/plain": [
       "<Figure size 640x480 with 1 Axes>"
      ]
     },
     "metadata": {},
     "output_type": "display_data"
    }
   ],
   "source": [
    "import seaborn as sns\n",
    "fig, axes = plt.subplots(nrows=1, ncols=1)\n",
    "from matplotlib import rcParams, rcParamsDefault\n",
    "import matplotlib.patches as  mpatches\n",
    "rcParams.update(rcParamsDefault)\n",
    "sns.set_style(\"darkgrid\")\n",
    "cityscapes_mean = new_TP_pair_ser.mean()\n",
    "coco_mean = new_TP_pair_ser_coco.mean()\n",
    "lvis_mean = new_TP_pair_ser_lvis.mean()\n",
    "\n",
    "cityscapes_first_q = np.percentile(new_TP_pair_ser, 25)\n",
    "coco_first_q = np.percentile(new_TP_pair_ser_coco, 25)\n",
    "lvis_first_q = np.percentile(new_TP_pair_ser_lvis, 25)\n",
    "\n",
    "ax = sns.kdeplot(\n",
    "   data=kde_dataframe, x=\"IOU\", hue=\"Dataset\",\n",
    "   fill=True, alpha=0.2, palette=['red', 'blue', 'green'], cut=0, clip=[0, 1],\n",
    "common_norm=True,  linestyles=\"--\")\n",
    "ax.set_yticklabels([])\n",
    "ax.set_ylabel(\"\")\n",
    "\n",
    "ax.axvline(cityscapes_first_q, color='red', linewidth=1, linestyle=':', ymin=0, ymax=0.21)\n",
    "ax.axvline(coco_first_q, color='blue', linewidth=1, linestyle='--', ymin=0, ymax=0.32)\n",
    "ax.axvline(lvis_first_q, color='green', linewidth=1, linestyle='-.', ymin=0, ymax=0.36)\n",
    "lss = [':', '--', '-.']\n",
    "\n",
    "for line, ls in zip(ax.collections, lss):\n",
    "    line.set_linestyle(ls)\n",
    "    \n",
    "plt.xlabel('IOU Score')\n",
    "plt.text(0.34, 5.0, s=\"$\\mu_{Cityscapes}=%.2f$\" % cityscapes_mean)\n",
    "plt.text(0.34, 4.5, s=\"$\\mu_{MS\\ COCO}=%.2f$\" % coco_mean)\n",
    "plt.text(0.34, 4.0, s=\"$\\mu_{LVIS}=%.2f$\" % lvis_mean)\n",
    "sns.move_legend(ax, \"upper left\")\n",
    "handles = ax.get_legend().legend_handles[::-1]\n",
    "for handle, ls in zip(handles, lss):\n",
    "    handle.set_ls(ls)\n",
    "plt.savefig('../paper_images/iou_plot.jpeg', dpi=1000)\n",
    "\n",
    "plt.show()"
   ]
  }
 ],
 "metadata": {
  "kernelspec": {
   "display_name": "text_redaction_env",
   "language": "python",
   "name": "text_redaction_env"
  },
  "language_info": {
   "codemirror_mode": {
    "name": "ipython",
    "version": 3
   },
   "file_extension": ".py",
   "mimetype": "text/x-python",
   "name": "python",
   "nbconvert_exporter": "python",
   "pygments_lexer": "ipython3",
   "version": "3.10.9"
  }
 },
 "nbformat": 4,
 "nbformat_minor": 5
}
